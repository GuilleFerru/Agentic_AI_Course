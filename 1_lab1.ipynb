{
 "cells": [
  {
   "cell_type": "markdown",
   "metadata": {},
   "source": [
    "# Welcome to the start of your adventure in Agentic AI"
   ]
  },
  {
   "cell_type": "markdown",
   "metadata": {},
   "source": [
    "<table style=\"margin: 0; text-align: left; width:100%\">\n",
    "    <tr>\n",
    "        <td style=\"width: 150px; height: 150px; vertical-align: middle;\">\n",
    "            <img src=\"../assets/stop.png\" width=\"150\" height=\"150\" style=\"display: block;\" />\n",
    "        </td>\n",
    "        <td>\n",
    "            <h2 style=\"color:#ff7800;\">Are you ready for action??</h2>\n",
    "            <span style=\"color:#ff7800;\">Have you completed all the setup steps in the <a href=\"../setup/\">setup</a> folder?<br/>\n",
    "            Have you read the <a href=\"../README.md\">README</a>? Many common questions are answered here!<br/>\n",
    "            Have you checked out the guides in the <a href=\"../guides/01_intro.ipynb\">guides</a> folder?<br/>\n",
    "            Well in that case, you're ready!!\n",
    "            </span>\n",
    "        </td>\n",
    "    </tr>\n",
    "</table>"
   ]
  },
  {
   "cell_type": "markdown",
   "metadata": {},
   "source": [
    "<table style=\"margin: 0; text-align: left; width:100%\">\n",
    "    <tr>\n",
    "        <td style=\"width: 150px; height: 150px; vertical-align: middle;\">\n",
    "            <img src=\"../assets/tools.png\" width=\"150\" height=\"150\" style=\"display: block;\" />\n",
    "        </td>\n",
    "        <td>\n",
    "            <h2 style=\"color:#00bfff;\">This code is a live resource - keep an eye out for my updates</h2>\n",
    "            <span style=\"color:#00bfff;\">I push updates regularly. As people ask questions or have problems, I add more examples and improve explanations. As a result, the code below might not be identical to the videos, as I've added more steps and better comments. Consider this like an interactive book that accompanies the lectures.<br/><br/>\n",
    "            I try to send emails regularly with important updates related to the course. You can find this in the 'Announcements' section of Udemy in the left sidebar. You can also choose to receive my emails via your Notification Settings in Udemy. I'm respectful of your inbox and always try to add value with my emails!\n",
    "            </span>\n",
    "        </td>\n",
    "    </tr>\n",
    "</table>"
   ]
  },
  {
   "cell_type": "markdown",
   "metadata": {},
   "source": [
    "### And please do remember to contact me if I can help\n",
    "\n",
    "And I love to connect: https://www.linkedin.com/in/eddonner/\n",
    "\n",
    "\n",
    "### New to Notebooks like this one? Head over to the guides folder!\n",
    "\n",
    "Just to check you've already added the Python and Jupyter extensions to Cursor, if not already installed:\n",
    "- Open extensions (View >> extensions)\n",
    "- Search for python, and when the results show, click on the ms-python one, and Install it if not already installed\n",
    "- Search for jupyter, and when the results show, click on the Microsoft one, and Install it if not already installed  \n",
    "Then View >> Explorer to bring back the File Explorer.\n",
    "\n",
    "And then:\n",
    "1. Click where it says \"Select Kernel\" near the top right, and select the option called `.venv (Python 3.12.9)` or similar, which should be the first choice or the most prominent choice. You may need to choose \"Python Environments\" first.\n",
    "2. Click in each \"cell\" below, starting with the cell immediately below this text, and press Shift+Enter to run\n",
    "3. Enjoy!\n",
    "\n",
    "After you click \"Select Kernel\", if there is no option like `.venv (Python 3.12.9)` then please do the following:  \n",
    "1. On Mac: From the Cursor menu, choose Settings >> VS Code Settings (NOTE: be sure to select `VSCode Settings` not `Cursor Settings`);  \n",
    "On Windows PC: From the File menu, choose Preferences >> VS Code Settings(NOTE: be sure to select `VSCode Settings` not `Cursor Settings`)  \n",
    "2. In the Settings search bar, type \"venv\"  \n",
    "3. In the field \"Path to folder with a list of Virtual Environments\" put the path to the project root, like C:\\Users\\username\\projects\\agents (on a Windows PC) or /Users/username/projects/agents (on Mac or Linux).  \n",
    "And then try again.\n",
    "\n",
    "Having problems with missing Python versions in that list? Have you ever used Anaconda before? It might be interferring. Quit Cursor, bring up a new command line, and make sure that your Anaconda environment is deactivated:    \n",
    "`conda deactivate`  \n",
    "And if you still have any problems with conda and python versions, it's possible that you will need to run this too:  \n",
    "`conda config --set auto_activate_base false`  \n",
    "and then from within the Agents directory, you should be able to run `uv python list` and see the Python 3.12 version."
   ]
  },
  {
   "cell_type": "code",
   "execution_count": 3,
   "metadata": {},
   "outputs": [],
   "source": [
    "# First let's do an import. If you get an Import Error, double check that your Kernel is correct..\n",
    "\n",
    "from dotenv import load_dotenv\n"
   ]
  },
  {
   "cell_type": "code",
   "execution_count": 4,
   "metadata": {},
   "outputs": [
    {
     "data": {
      "text/plain": [
       "True"
      ]
     },
     "execution_count": 4,
     "metadata": {},
     "output_type": "execute_result"
    }
   ],
   "source": [
    "# Next it's time to load the API keys into environment variables\n",
    "# If this returns false, see the next cell!\n",
    "\n",
    "load_dotenv(override=True)"
   ]
  },
  {
   "cell_type": "markdown",
   "metadata": {},
   "source": [
    "### Wait, did that just output `False`??\n",
    "\n",
    "If so, the most common reason is that you didn't save your `.env` file after adding the key! Be sure to have saved.\n",
    "\n",
    "Also, make sure the `.env` file is named precisely `.env` and is in the project root directory (`agents`)\n",
    "\n",
    "By the way, your `.env` file should have a stop symbol next to it in Cursor on the left, and that's actually a good thing: that's Cursor saying to you, \"hey, I realize this is a file filled with secret information, and I'm not going to send it to an external AI to suggest changes, because your keys should not be shown to anyone else.\""
   ]
  },
  {
   "cell_type": "markdown",
   "metadata": {},
   "source": [
    "<table style=\"margin: 0; text-align: left; width:100%\">\n",
    "    <tr>\n",
    "        <td style=\"width: 150px; height: 150px; vertical-align: middle;\">\n",
    "            <img src=\"../assets/stop.png\" width=\"150\" height=\"150\" style=\"display: block;\" />\n",
    "        </td>\n",
    "        <td>\n",
    "            <h2 style=\"color:#ff7800;\">Final reminders</h2>\n",
    "            <span style=\"color:#ff7800;\">1. If you're not confident about Environment Variables or Web Endpoints / APIs, please read Topics 3 and 5 in this <a href=\"../guides/04_technical_foundations.ipynb\">technical foundations guide</a>.<br/>\n",
    "            2. If you want to use AIs other than OpenAI, like Gemini, DeepSeek or Ollama (free), please see the first section in this <a href=\"../guides/09_ai_apis_and_ollama.ipynb\">AI APIs guide</a>.<br/>\n",
    "            3. If you ever get a Name Error in Python, you can always fix it immediately; see the last section of this <a href=\"../guides/06_python_foundations.ipynb\">Python Foundations guide</a> and follow both tutorials and exercises.<br/>\n",
    "            </span>\n",
    "        </td>\n",
    "    </tr>\n",
    "</table>"
   ]
  },
  {
   "cell_type": "code",
   "execution_count": 5,
   "metadata": {},
   "outputs": [
    {
     "name": "stdout",
     "output_type": "stream",
     "text": [
      "OpenAI API Key exists and begins sk-proj-\n"
     ]
    }
   ],
   "source": [
    "# Check the key - if you're not using OpenAI, check whichever key you're using! Ollama doesn't need a key.\n",
    "\n",
    "import os\n",
    "openai_api_key = os.getenv('OPENAI_API_KEY')\n",
    "\n",
    "if openai_api_key:\n",
    "    print(f\"OpenAI API Key exists and begins {openai_api_key[:8]}\")\n",
    "else:\n",
    "    print(\"OpenAI API Key not set - please head to the troubleshooting guide in the setup folder\")\n",
    "    \n"
   ]
  },
  {
   "cell_type": "code",
   "execution_count": 6,
   "metadata": {},
   "outputs": [],
   "source": [
    "# And now - the all important import statement\n",
    "# If you get an import error - head over to troubleshooting in the Setup folder\n",
    "\n",
    "from openai import OpenAI"
   ]
  },
  {
   "cell_type": "code",
   "execution_count": 7,
   "metadata": {},
   "outputs": [],
   "source": [
    "# And now we'll create an instance of the OpenAI class\n",
    "# If you're not sure what it means to create an instance of a class - head over to the guides folder (guide 6)!\n",
    "# If you get a NameError - head over to the guides folder (guide 6)to learn about NameErrors - always instantly fixable\n",
    "# If you're not using OpenAI, you just need to slightly modify this - precise instructions are in the AI APIs guide (guide 9)\n",
    "\n",
    "openai = OpenAI()"
   ]
  },
  {
   "cell_type": "code",
   "execution_count": 8,
   "metadata": {},
   "outputs": [],
   "source": [
    "# Create a list of messages in the familiar OpenAI format\n",
    "\n",
    "messages = [{\"role\": \"user\", \"content\": \"What is 2+2?\"}]"
   ]
  },
  {
   "cell_type": "code",
   "execution_count": 9,
   "metadata": {},
   "outputs": [
    {
     "name": "stdout",
     "output_type": "stream",
     "text": [
      "2 + 2 equals 4.\n"
     ]
    }
   ],
   "source": [
    "# And now call it! Any problems, head to the troubleshooting guide\n",
    "# This uses GPT 4.1 nano, the incredibly cheap model\n",
    "# The APIs guide (guide 9) has exact instructions for using even cheaper or free alternatives to OpenAI\n",
    "# If you get a NameError, head to the guides folder (guide 6) to learn about NameErrors - always instantly fixable\n",
    "\n",
    "response = openai.chat.completions.create(\n",
    "    model=\"gpt-4.1-nano\",\n",
    "    messages=messages\n",
    ")\n",
    "\n",
    "print(response.choices[0].message.content)\n"
   ]
  },
  {
   "cell_type": "code",
   "execution_count": 10,
   "metadata": {},
   "outputs": [],
   "source": [
    "# And now - let's ask for a question:\n",
    "\n",
    "question = \"Please propose a hard, challenging question to assess someone's IQ. Respond only with the question.\"\n",
    "messages = [{\"role\": \"user\", \"content\": question}]\n"
   ]
  },
  {
   "cell_type": "code",
   "execution_count": 11,
   "metadata": {},
   "outputs": [
    {
     "name": "stdout",
     "output_type": "stream",
     "text": [
      "A bat and a ball cost $1.10 in total. The bat costs $1.00 more than the ball. How much does the ball cost?\n"
     ]
    }
   ],
   "source": [
    "# ask it - this uses GPT 4.1 mini, still cheap but more powerful than nano\n",
    "\n",
    "response = openai.chat.completions.create(\n",
    "    model=\"gpt-4.1-mini\",\n",
    "    messages=messages\n",
    ")\n",
    "\n",
    "question = response.choices[0].message.content\n",
    "\n",
    "print(question)\n"
   ]
  },
  {
   "cell_type": "code",
   "execution_count": 12,
   "metadata": {},
   "outputs": [],
   "source": [
    "# form a new messages list\n",
    "messages = [{\"role\": \"user\", \"content\": question}]\n"
   ]
  },
  {
   "cell_type": "code",
   "execution_count": 13,
   "metadata": {},
   "outputs": [
    {
     "name": "stdout",
     "output_type": "stream",
     "text": [
      "Let's denote:\n",
      "\n",
      "- The cost of the ball as \\( x \\).\n",
      "- The cost of the bat as \\( x + 1.00 \\) (since it costs $1.00 more than the ball).\n",
      "\n",
      "Given that together they cost $1.10, we have the equation:\n",
      "\n",
      "\\[\n",
      "x + (x + 1.00) = 1.10\n",
      "\\]\n",
      "\n",
      "Simplifying:\n",
      "\n",
      "\\[\n",
      "2x + 1.00 = 1.10\n",
      "\\]\n",
      "\n",
      "\\[\n",
      "2x = 1.10 - 1.00 = 0.10\n",
      "\\]\n",
      "\n",
      "\\[\n",
      "x = \\frac{0.10}{2} = 0.05\n",
      "\\]\n",
      "\n",
      "**Answer:** The ball costs **5 cents**.\n"
     ]
    }
   ],
   "source": [
    "# Ask it again\n",
    "\n",
    "response = openai.chat.completions.create(\n",
    "    model=\"gpt-4.1-mini\",\n",
    "    messages=messages\n",
    ")\n",
    "\n",
    "answer = response.choices[0].message.content\n",
    "print(answer)\n"
   ]
  },
  {
   "cell_type": "code",
   "execution_count": 14,
   "metadata": {},
   "outputs": [
    {
     "data": {
      "text/markdown": [
       "Let's denote:\n",
       "\n",
       "- The cost of the ball as \\( x \\).\n",
       "- The cost of the bat as \\( x + 1.00 \\) (since it costs $1.00 more than the ball).\n",
       "\n",
       "Given that together they cost $1.10, we have the equation:\n",
       "\n",
       "\\[\n",
       "x + (x + 1.00) = 1.10\n",
       "\\]\n",
       "\n",
       "Simplifying:\n",
       "\n",
       "\\[\n",
       "2x + 1.00 = 1.10\n",
       "\\]\n",
       "\n",
       "\\[\n",
       "2x = 1.10 - 1.00 = 0.10\n",
       "\\]\n",
       "\n",
       "\\[\n",
       "x = \\frac{0.10}{2} = 0.05\n",
       "\\]\n",
       "\n",
       "**Answer:** The ball costs **5 cents**."
      ],
      "text/plain": [
       "<IPython.core.display.Markdown object>"
      ]
     },
     "metadata": {},
     "output_type": "display_data"
    }
   ],
   "source": [
    "from IPython.display import Markdown, display\n",
    "\n",
    "display(Markdown(answer))\n",
    "\n"
   ]
  },
  {
   "cell_type": "markdown",
   "metadata": {},
   "source": [
    "# Congratulations!\n",
    "\n",
    "That was a small, simple step in the direction of Agentic AI, with your new environment!\n",
    "\n",
    "Next time things get more interesting..."
   ]
  },
  {
   "cell_type": "markdown",
   "metadata": {},
   "source": [
    "<table style=\"margin: 0; text-align: left; width:100%\">\n",
    "    <tr>\n",
    "        <td style=\"width: 150px; height: 150px; vertical-align: middle;\">\n",
    "            <img src=\"../assets/exercise.png\" width=\"150\" height=\"150\" style=\"display: block;\" />\n",
    "        </td>\n",
    "        <td>\n",
    "            <h2 style=\"color:#ff7800;\">Exercise</h2>\n",
    "            <span style=\"color:#ff7800;\">Now try this commercial application:<br/>\n",
    "            First ask the LLM to pick a business area that might be worth exploring for an Agentic AI opportunity.<br/>\n",
    "            Then ask the LLM to present a pain-point in that industry - something challenging that might be ripe for an Agentic solution.<br/>\n",
    "            Finally have 3 third LLM call propose the Agentic AI solution. <br/>\n",
    "            We will cover this at up-coming labs, so don't worry if you're unsure.. just give it a try!\n",
    "            </span>\n",
    "        </td>\n",
    "    </tr>\n",
    "</table>"
   ]
  },
  {
   "cell_type": "code",
   "execution_count": 27,
   "metadata": {},
   "outputs": [
    {
     "name": "stdout",
     "output_type": "stream",
     "text": [
      "Response: ### Pain Point: Inequitable Access to Personalized Healthcare\n",
      "\n",
      "One of the critical pain points in personalized healthcare is the **inequitable access to tailored services**, which is exacerbated by various socioeconomic factors. This issue can manifest in several ways:\n",
      "\n",
      "1. **Geographical Disparities**: Patients in rural or underserved urban areas often lack access to specialized healthcare providers, advanced diagnostic tools, and personalized treatment options. This disparity can lead to delayed diagnoses and inadequate treatment.\n",
      "\n",
      "2. **Cost Barriers**: High costs associated with personalized healthcare, including genetic testing and advanced treatment modalities, can be prohibitive for individuals without adequate insurance coverage or financial resources. This creates a gap between those who can afford personalized care and those who cannot.\n",
      "\n",
      "3. **Limited Awareness and Education**: Many patients may not be aware of personalized healthcare options, or they may lack the health literacy to understand their health conditions and available treatments. This leads to underutilization of personalized services.\n",
      "\n",
      "4. **Cultural and Linguistic Barriers**: Patients from diverse backgrounds may face obstacles in accessing personalized care due to language barriers or cultural misunderstandings, preventing them from fully engaging with healthcare providers.\n",
      "\n",
      "5. **Fragmented Care Systems**: The traditional healthcare system often lacks the integration necessary to provide truly personalized care. Different healthcare providers may not share information effectively, leading to disjointed treatment plans and inadequate patient monitoring.\n",
      "\n",
      "### Opportunity for Agentic AI\n",
      "\n",
      "Agentic AI has the potential to address these inequities by:\n",
      "\n",
      "- **Facilitating Remote Access**: Through telemedicine capabilities, Agentic AI can provide personalized consultations and monitoring to patients, regardless of their location, thus bridging geographical gaps.\n",
      "\n",
      "- **Cost Assessment and Resource Optimization**: AI can help identify cost-effective treatment options and optimize resource allocation, making personalized healthcare more accessible to low-income patients.\n",
      "\n",
      "- **Educational Tools and Support**: Agentic AI can provide tailored educational resources and support systems to empower patients with knowledge about their health conditions and available care options.\n",
      "\n",
      "- **Culturally Competent Interventions**: AI-driven solutions can be designed to accommodate diverse linguistic and cultural needs, enhancing communication and engagement with patients from various backgrounds.\n",
      "\n",
      "- **Seamless Data Integration**: By integrating data from different sources in real-time, Agentic AI can ensure that all healthcare providers involved in a patient's care have access to comprehensive and up-to-date information, leading to more coordinated and personalized treatment plans.\n",
      "\n",
      "By addressing these pain points effectively, businesses leveraging Agentic AI in personalized healthcare can help create a more equitable healthcare landscape, ultimately improving health outcomes for all patients.\n",
      "--------------------------------\n",
      "Response: ### Pain Point: Medication Non-Adherence\n",
      "\n",
      "One of the critical pain points in personalized healthcare management is **medication non-adherence**. This issue is prevalent among patients managing chronic illnesses; studies show that approximately 50% of patients do not take their medications as prescribed. Non-adherence can lead to serious health complications, increased hospitalization rates, and higher healthcare costs.\n",
      "\n",
      "#### Reasons for Medication Non-Adherence:\n",
      "1. **Complex Regimens**: Many patients must navigate complex medication schedules, which can be overwhelming and confusing, leading to missed doses.\n",
      "  \n",
      "2. **Forgetfulness**: Patients often forget to take their medications, especially if they are on multiple prescriptions. Daily life can be hectic, making it difficult to remember.\n",
      "\n",
      "3. **Side Effects**: Concerns about side effects or negative experiences may discourage patients from taking their medications consistently.\n",
      "\n",
      "4. **Lack of Understanding**: Patients may not fully understand their treatment plans or the importance of adherence, leading to apathy toward medication schedules.\n",
      "\n",
      "5. **Accessibility Issues**: Difficulties in obtaining prescriptions and medications, whether due to cost, transportation, or provider accessibility, can contribute to non-adherence.\n",
      "\n",
      "### How Agentic AI Can Address this Pain Point:\n",
      "1. **Personal Health Assistants**: AI-driven assistants can provide timely reminders and notifications tailored to individual medication schedules, helping to reinforce adherence.\n",
      "\n",
      "2. **Dynamic Scheduling**: These assistants can adapt reminders based on patient needs and behaviors, using machine learning to identify patterns and sending prompts when patients are more likely to miss doses.\n",
      "\n",
      "3. **Education and Engagement**: AI can deliver personalized educational content that explains the importance of adherence and addresses specific concerns about medications, enhancing patients' understanding and compliance.\n",
      "\n",
      "4. **Monitoring and Feedback**: By tracking medication intake and providing feedback, AI can engage patients with positive reinforcement, such as celebrating milestones or providing insights on health improvements linked to adherence.\n",
      "\n",
      "5. **Telehealth Integration**: During virtual visits, AI can facilitate conversations around medication adherence, allowing healthcare providers to address concerns and adjust treatment plans in real time.\n",
      "\n",
      "### Conclusion:\n",
      "By focusing on medication non-adherence, Agentic AI has the potential to make personalized healthcare management more effective. By addressing this pain point through tailored solutions, AI can enhance patient engagement, improve health outcomes, and ultimately reduce healthcare costs associated with poor medication compliance.\n",
      "--------------------------------\n",
      "Response: ### Pain Point: Lack of Personalization in Existing Health Solutions\n",
      "\n",
      "Despite the growing demand for personalized health and wellness solutions, many existing offerings in the market remain overly general and do not adequately address individual variances in health needs. Here’s a breakdown of this pain point:\n",
      "\n",
      "1. **One-Size-Fits-All Approach**: Many current health and wellness programs, apps, and solutions provide generic advice that fails to consider the unique circumstances of each user. This can lead to frustration and disengagement for consumers who do not see tangible results or improvements in their health.\n",
      "\n",
      "2. **Insufficient Data Utilization**: Existing systems often lack the technological capability to gather and analyze comprehensive health data from different sources, such as genetic information, wearable devices, and personal health history. This data inadequacy means recommendations are often based on outdated or insufficient information.\n",
      "\n",
      "3. **Lack of Integration**: Many platforms focus on one specific aspect of health (e.g., fitness, nutrition, mental health) without offering a holistic view of an individual’s well-being. Users may have to rely on multiple apps or services to cover different areas, making it more complicated to maintain a cohesive health strategy.\n",
      "\n",
      "4. **Compliance and Motivation**: Generic recommendations can lead to user apathy. If insights and suggestions don’t resonate personally or are too challenging to implement, users may struggle to stay motivated or compliant with the suggested health plans.\n",
      "\n",
      "5. **Fragmented User Experience**: The lack of a unified platform leads to a disjointed experience, where users may need to navigate multiple interfaces and sources for coherent guidance, which can ultimately limit their commitment to achieving health goals.\n",
      "\n",
      "### Opportunity for Agentic AI:\n",
      "- **Tailored Interventions**: Agentic AI can use machine learning algorithms to offer highly personalized health plans by analyzing extensive data, thus moving away from the one-size-fits-all model.\n",
      "- **Comprehensive Insights**: By integrating various data sources, AI can provide users with insights that consider all facets of their health and lifestyle, leading to more effective and relevant health solutions.\n",
      "- **Proactive Engagement**: AI can adapt recommendations based on real-time health metrics and user feedback, encouraging ongoing engagement and motivation through tailored interventions and reminders.\n",
      "- **Enhanced User Experience**: By streamlining health recommendations into a single user interface, Agentic AI can offer a more cohesive and valuable experience, simplifying the process of managing health and wellness.\n",
      "\n",
      "By addressing this pain point, Agentic AI could revolutionize the personalized health and wellness sector, leading to better health outcomes and increased user satisfaction.\n",
      "--------------------------------\n"
     ]
    }
   ],
   "source": [
    "# First create the messages:\n",
    "\n",
    "\n",
    "def respond(messages):\n",
    "    response = openai.chat.completions.create(\n",
    "        model=\"gpt-4o-mini\",\n",
    "        messages=messages,\n",
    "    )\n",
    "    return f\"Response: {response.choices[0].message.content}\"\n",
    "\n",
    "\n",
    "\n",
    "for i in range(3):\n",
    "    messages = [{\"role\": \"user\", \"content\": \"Pick a business area that might be worth exploring for an Agentic AI opportunity\"}]\n",
    "    business_idea = respond(messages)\n",
    "    messages.append({\"role\": \"assistant\", \"content\": business_idea})\n",
    "    messages.append({\"role\": \"user\", \"content\": f\"Present a pain-point in {business_idea}?\"})\n",
    "    print(respond(messages))\n",
    "    print('--------------------------------')\n",
    "    i += 1\n",
    "\n",
    "\n",
    "\n",
    "\n",
    "\n",
    "\n",
    "\n"
   ]
  },
  {
   "cell_type": "markdown",
   "metadata": {},
   "source": []
  }
 ],
 "metadata": {
  "kernelspec": {
   "display_name": ".venv",
   "language": "python",
   "name": "python3"
  },
  "language_info": {
   "codemirror_mode": {
    "name": "ipython",
    "version": 3
   },
   "file_extension": ".py",
   "mimetype": "text/x-python",
   "name": "python",
   "nbconvert_exporter": "python",
   "pygments_lexer": "ipython3",
   "version": "3.12.5"
  }
 },
 "nbformat": 4,
 "nbformat_minor": 2
}
